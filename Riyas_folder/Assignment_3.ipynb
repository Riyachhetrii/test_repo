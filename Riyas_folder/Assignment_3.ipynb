{
  "cells": [
    {
      "cell_type": "markdown",
      "metadata": {
        "id": "r_mblpmvvgQ-"
      },
      "source": [
        "# Lab 3: Functions and Visualizations"
      ]
    },
    {
      "cell_type": "markdown",
      "metadata": {
        "id": "lBFl1uCVvgRB"
      },
      "source": [
        "Welcome to Lab 3! This week, we'll learn about functions, table methods such as `apply`, and how to generate visualizations!\n",
        "\n",
        "Recommended Reading:\n",
        "\n",
        "* [Applying a Function to a Column](https://www.inferentialthinking.com/chapters/08/1/applying-a-function-to-a-column.html)\n",
        "* [Visualizations](https://www.inferentialthinking.com/chapters/07/visualization.html)\n",
        "\n",
        "First, set up the notebook by running the cell below."
      ]
    },
    {
      "cell_type": "code",
      "source": [
        "pip install datascience"
      ],
      "metadata": {
        "colab": {
          "base_uri": "https://localhost:8080/"
        },
        "id": "ydUpQN7YyC4q",
        "outputId": "0a225e6f-72d2-4231-ec06-62fc71acca9e"
      },
      "execution_count": 1,
      "outputs": [
        {
          "output_type": "stream",
          "name": "stdout",
          "text": [
            "Collecting datascience\n",
            "  Downloading datascience-0.18.0-py3-none-any.whl.metadata (910 bytes)\n",
            "Requirement already satisfied: folium>=0.9.1 in /usr/local/lib/python3.12/dist-packages (from datascience) (0.20.0)\n",
            "Requirement already satisfied: setuptools in /usr/local/lib/python3.12/dist-packages (from datascience) (75.2.0)\n",
            "Requirement already satisfied: matplotlib>=3.0.0 in /usr/local/lib/python3.12/dist-packages (from datascience) (3.10.0)\n",
            "Requirement already satisfied: pandas in /usr/local/lib/python3.12/dist-packages (from datascience) (2.2.2)\n",
            "Requirement already satisfied: scipy in /usr/local/lib/python3.12/dist-packages (from datascience) (1.16.1)\n",
            "Requirement already satisfied: numpy in /usr/local/lib/python3.12/dist-packages (from datascience) (2.0.2)\n",
            "Requirement already satisfied: ipython in /usr/local/lib/python3.12/dist-packages (from datascience) (7.34.0)\n",
            "Requirement already satisfied: plotly in /usr/local/lib/python3.12/dist-packages (from datascience) (5.24.1)\n",
            "Requirement already satisfied: branca in /usr/local/lib/python3.12/dist-packages (from datascience) (0.8.1)\n",
            "Requirement already satisfied: jinja2>=2.9 in /usr/local/lib/python3.12/dist-packages (from folium>=0.9.1->datascience) (3.1.6)\n",
            "Requirement already satisfied: requests in /usr/local/lib/python3.12/dist-packages (from folium>=0.9.1->datascience) (2.32.4)\n",
            "Requirement already satisfied: xyzservices in /usr/local/lib/python3.12/dist-packages (from folium>=0.9.1->datascience) (2025.4.0)\n",
            "Requirement already satisfied: contourpy>=1.0.1 in /usr/local/lib/python3.12/dist-packages (from matplotlib>=3.0.0->datascience) (1.3.3)\n",
            "Requirement already satisfied: cycler>=0.10 in /usr/local/lib/python3.12/dist-packages (from matplotlib>=3.0.0->datascience) (0.12.1)\n",
            "Requirement already satisfied: fonttools>=4.22.0 in /usr/local/lib/python3.12/dist-packages (from matplotlib>=3.0.0->datascience) (4.59.2)\n",
            "Requirement already satisfied: kiwisolver>=1.3.1 in /usr/local/lib/python3.12/dist-packages (from matplotlib>=3.0.0->datascience) (1.4.9)\n",
            "Requirement already satisfied: packaging>=20.0 in /usr/local/lib/python3.12/dist-packages (from matplotlib>=3.0.0->datascience) (25.0)\n",
            "Requirement already satisfied: pillow>=8 in /usr/local/lib/python3.12/dist-packages (from matplotlib>=3.0.0->datascience) (11.3.0)\n",
            "Requirement already satisfied: pyparsing>=2.3.1 in /usr/local/lib/python3.12/dist-packages (from matplotlib>=3.0.0->datascience) (3.2.3)\n",
            "Requirement already satisfied: python-dateutil>=2.7 in /usr/local/lib/python3.12/dist-packages (from matplotlib>=3.0.0->datascience) (2.9.0.post0)\n",
            "Collecting jedi>=0.16 (from ipython->datascience)\n",
            "  Downloading jedi-0.19.2-py2.py3-none-any.whl.metadata (22 kB)\n",
            "Requirement already satisfied: decorator in /usr/local/lib/python3.12/dist-packages (from ipython->datascience) (4.4.2)\n",
            "Requirement already satisfied: pickleshare in /usr/local/lib/python3.12/dist-packages (from ipython->datascience) (0.7.5)\n",
            "Requirement already satisfied: traitlets>=4.2 in /usr/local/lib/python3.12/dist-packages (from ipython->datascience) (5.7.1)\n",
            "Requirement already satisfied: prompt-toolkit!=3.0.0,!=3.0.1,<3.1.0,>=2.0.0 in /usr/local/lib/python3.12/dist-packages (from ipython->datascience) (3.0.52)\n",
            "Requirement already satisfied: pygments in /usr/local/lib/python3.12/dist-packages (from ipython->datascience) (2.19.2)\n",
            "Requirement already satisfied: backcall in /usr/local/lib/python3.12/dist-packages (from ipython->datascience) (0.2.0)\n",
            "Requirement already satisfied: matplotlib-inline in /usr/local/lib/python3.12/dist-packages (from ipython->datascience) (0.1.7)\n",
            "Requirement already satisfied: pexpect>4.3 in /usr/local/lib/python3.12/dist-packages (from ipython->datascience) (4.9.0)\n",
            "Requirement already satisfied: pytz>=2020.1 in /usr/local/lib/python3.12/dist-packages (from pandas->datascience) (2025.2)\n",
            "Requirement already satisfied: tzdata>=2022.7 in /usr/local/lib/python3.12/dist-packages (from pandas->datascience) (2025.2)\n",
            "Requirement already satisfied: tenacity>=6.2.0 in /usr/local/lib/python3.12/dist-packages (from plotly->datascience) (8.5.0)\n",
            "Requirement already satisfied: parso<0.9.0,>=0.8.4 in /usr/local/lib/python3.12/dist-packages (from jedi>=0.16->ipython->datascience) (0.8.5)\n",
            "Requirement already satisfied: MarkupSafe>=2.0 in /usr/local/lib/python3.12/dist-packages (from jinja2>=2.9->folium>=0.9.1->datascience) (3.0.2)\n",
            "Requirement already satisfied: ptyprocess>=0.5 in /usr/local/lib/python3.12/dist-packages (from pexpect>4.3->ipython->datascience) (0.7.0)\n",
            "Requirement already satisfied: wcwidth in /usr/local/lib/python3.12/dist-packages (from prompt-toolkit!=3.0.0,!=3.0.1,<3.1.0,>=2.0.0->ipython->datascience) (0.2.13)\n",
            "Requirement already satisfied: six>=1.5 in /usr/local/lib/python3.12/dist-packages (from python-dateutil>=2.7->matplotlib>=3.0.0->datascience) (1.17.0)\n",
            "Requirement already satisfied: charset_normalizer<4,>=2 in /usr/local/lib/python3.12/dist-packages (from requests->folium>=0.9.1->datascience) (3.4.3)\n",
            "Requirement already satisfied: idna<4,>=2.5 in /usr/local/lib/python3.12/dist-packages (from requests->folium>=0.9.1->datascience) (3.10)\n",
            "Requirement already satisfied: urllib3<3,>=1.21.1 in /usr/local/lib/python3.12/dist-packages (from requests->folium>=0.9.1->datascience) (2.5.0)\n",
            "Requirement already satisfied: certifi>=2017.4.17 in /usr/local/lib/python3.12/dist-packages (from requests->folium>=0.9.1->datascience) (2025.8.3)\n",
            "Downloading datascience-0.18.0-py3-none-any.whl (725 kB)\n",
            "\u001b[2K   \u001b[90m━━━━━━━━━━━━━━━━━━━━━━━━━━━━━━━━━━━━━━━━\u001b[0m \u001b[32m725.0/725.0 kB\u001b[0m \u001b[31m12.1 MB/s\u001b[0m eta \u001b[36m0:00:00\u001b[0m\n",
            "\u001b[?25hDownloading jedi-0.19.2-py2.py3-none-any.whl (1.6 MB)\n",
            "\u001b[2K   \u001b[90m━━━━━━━━━━━━━━━━━━━━━━━━━━━━━━━━━━━━━━━━\u001b[0m \u001b[32m1.6/1.6 MB\u001b[0m \u001b[31m34.1 MB/s\u001b[0m eta \u001b[36m0:00:00\u001b[0m\n",
            "\u001b[?25hInstalling collected packages: jedi, datascience\n",
            "Successfully installed datascience-0.18.0 jedi-0.19.2\n"
          ]
        }
      ]
    },
    {
      "cell_type": "code",
      "execution_count": 2,
      "metadata": {
        "id": "RY48OoT6vgRC"
      },
      "outputs": [],
      "source": [
        "import numpy as np\n",
        "from datascience import *\n",
        "# These lines set up graphing capabilities.\n",
        "import matplotlib\n",
        "%matplotlib inline\n",
        "import matplotlib.pyplot as plt\n",
        "plt.style.use('fivethirtyeight')\n",
        "import warnings\n",
        "warnings.simplefilter('ignore', FutureWarning)"
      ]
    },
    {
      "cell_type": "markdown",
      "metadata": {
        "id": "2Fj43EJivgRD"
      },
      "source": [
        "## 1. Defining functions\n",
        "\n",
        "Let's write a very simple function that converts a proportion to a percentage by multiplying it by 100.  For example, the value of `to_percentage(.5)` should be the number 50 (no percent sign).\n",
        "\n",
        "A function definition has a few parts.\n",
        "\n",
        "##### `def`\n",
        "It always starts with `def` (short for **def**ine):\n",
        "\n",
        "    def\n",
        "\n",
        "##### Name\n",
        "Next comes the name of the function.  Like other names we've defined, it can't start with a number or contain spaces. Let's call our function `to_percentage`:\n",
        "    \n",
        "    def to_percentage\n",
        "\n",
        "##### Signature\n",
        "Next comes something called the *signature* of the function.  This tells Python how many arguments your function should have, and what names you'll use to refer to those arguments in the function's code.  A function can have any number of arguments (including 0!).\n",
        "\n",
        "`to_percentage` should take one argument, and we'll call that argument `proportion` since it should be a proportion.\n",
        "\n",
        "    def to_percentage(proportion)\n",
        "    \n",
        "If we want our function to take more than one argument, we add a comma between each argument name. Note that if we had zero arguments, we'd still place the parentheses () after than name.\n",
        "\n",
        "We put a colon after the signature to tell Python it's over. If you're getting a syntax error after defining a function, check to make sure you remembered the colon!\n",
        "\n",
        "    def to_percentage(proportion):\n",
        "\n",
        "##### Documentation\n",
        "Functions can do complicated things, so you should write an explanation of what your function does.  For small functions, this is less important, but it's a good habit to learn from the start.  Conventionally, Python functions are documented by writing an **indented** triple-quoted string:\n",
        "\n",
        "    def to_percentage(proportion):\n",
        "        \"\"\"Converts a proportion to a percentage.\"\"\"\n",
        "    \n",
        "    \n",
        "##### Body\n",
        "Now we start writing code that runs when the function is called.  This is called the *body* of the function and every line **must be indented with a tab**.  Any lines that are *not* indented and left-aligned with the def statement is considered outside the function.\n",
        "\n",
        "Some notes about the body of the function:\n",
        "- We can write code that we would write anywhere else.  \n",
        "- We use the arguments defined in the function signature. We can do this because we assume that when we call the function, values are already assigned to those arguments.\n",
        "- We generally avoid referencing variables defined *outside* the function. If you would like to reference variables outside of the function, pass them through as arguments!\n",
        "\n",
        "\n",
        "Now, let's give a name to the number we multiply a proportion by to get a percentage:\n",
        "\n",
        "    def to_percentage(proportion):\n",
        "        \"\"\"Converts a proportion to a percentage.\"\"\"\n",
        "        factor = 100\n",
        "\n",
        "##### `return`\n",
        "The special instruction `return` is part of the function's body and tells Python to make the value of the function call equal to whatever comes right after `return`.  We want the value of `to_percentage(.5)` to be the proportion .5 times the factor 100, so we write:\n",
        "\n",
        "    def to_percentage(proportion):\n",
        "        \"\"\"Converts a proportion to a percentage.\"\"\"\n",
        "        factor = 100\n",
        "        return proportion * factor\n",
        "        \n",
        "`return` only makes sense in the context of a function, and **can never be used outside of a function**. `return` is always the last line of the function because Python stops executing the body of a function once it hits a `return` statement.\n",
        "\n",
        "*Note:*  `return` inside a function tells Python what value the function evaluates to. However, there are other functions, like `print`, that have no `return` value. For example, `print` simply prints a certain value out to the console.\n",
        "\n",
        "`return` and `print` are **very** different."
      ]
    },
    {
      "cell_type": "markdown",
      "metadata": {
        "id": "_hFBglD4vgRE"
      },
      "source": [
        "<span style='background:yellow'>**Question 1.1.**</span> Define `to_percentage` in the cell below.  Call your function to convert the proportion .2 to a percentage.  Name that percentage `twenty_percent`."
      ]
    },
    {
      "cell_type": "code",
      "execution_count": 3,
      "metadata": {
        "id": "J00LY4wEvgRF"
      },
      "outputs": [],
      "source": [
        "def to_percentage(proportion):\n",
        "    \"\"\"Converts a proportion to a percentage.\"\"\"\n",
        "    twenty_percent = proportion * 100\n",
        "    return twenty_percent\n",
        "\n",
        "twenty_percent = to_percentage(0.2)\n",
        "\n"
      ]
    },
    {
      "cell_type": "code",
      "execution_count": 4,
      "metadata": {
        "id": "v3Qa3iqKvgRF",
        "colab": {
          "base_uri": "https://localhost:8080/"
        },
        "outputId": "c051cafe-eea0-4324-9273-e0736d7ec11d"
      },
      "outputs": [
        {
          "output_type": "execute_result",
          "data": {
            "text/plain": [
              "True"
            ]
          },
          "metadata": {},
          "execution_count": 4
        }
      ],
      "source": [
        "# TEST\n",
        "# Make sure your function has the proper syntax!\n",
        "to_percentage(.35) == 35.0"
      ]
    },
    {
      "cell_type": "markdown",
      "metadata": {
        "id": "HzqiH5R3vgRG"
      },
      "source": [
        "Like you’ve done with built-in functions in previous labs (max, abs, etc.), you can pass in named values as arguments to your function.\n",
        "\n",
        "<span style='background:yellow'>**Question 1.2.**</span> Use `to_percentage` again to convert the proportion named `a_proportion` (defined below) to a percentage called `a_percentage`.\n",
        "\n",
        "*Note:* You don't need to define `to_percentage` again!  Like other named values, functions stick around after you define them."
      ]
    },
    {
      "cell_type": "code",
      "execution_count": 5,
      "metadata": {
        "id": "Vci9PCoLvgRH",
        "colab": {
          "base_uri": "https://localhost:8080/"
        },
        "outputId": "4e8b68f8-f30f-4c1e-8743-243954fed0fc"
      },
      "outputs": [
        {
          "output_type": "execute_result",
          "data": {
            "text/plain": [
              "70.71067811865476"
            ]
          },
          "metadata": {},
          "execution_count": 5
        }
      ],
      "source": [
        "a_proportion = 2**(.5) / 2\n",
        "a_percentage = to_percentage(a_proportion)\n",
        "a_percentage"
      ]
    },
    {
      "cell_type": "code",
      "execution_count": 6,
      "metadata": {
        "id": "DVCqQrcGvgRH",
        "colab": {
          "base_uri": "https://localhost:8080/"
        },
        "outputId": "2502e2db-fc7b-4946-e328-c126fc3b74e9"
      },
      "outputs": [
        {
          "output_type": "execute_result",
          "data": {
            "text/plain": [
              "True"
            ]
          },
          "metadata": {},
          "execution_count": 6
        }
      ],
      "source": [
        "# TEST\n",
        "a_percentage == 70.71067811865476"
      ]
    },
    {
      "cell_type": "markdown",
      "metadata": {
        "id": "mkBUOy8MvgRH"
      },
      "source": [
        "Here's something important about functions: the names assigned *within* a function body are only accessible within the function body. Once the function has returned, those names are gone.  So even if you created a variable called `factor` and defined `factor = 100` inside of the body of the `to_percentage` function and then called `to_percentage`, `factor` would not have a value assigned to it outside of the body of `to_percentage`:"
      ]
    },
    {
      "cell_type": "code",
      "execution_count": 7,
      "metadata": {
        "id": "fgS1zI4NvgRI",
        "colab": {
          "base_uri": "https://localhost:8080/",
          "height": 176
        },
        "outputId": "03e32a84-5f63-4d12-c572-0212ceb32809"
      },
      "outputs": [
        {
          "output_type": "error",
          "ename": "NameError",
          "evalue": "name 'factor' is not defined",
          "traceback": [
            "\u001b[0;31m---------------------------------------------------------------------------\u001b[0m",
            "\u001b[0;31mNameError\u001b[0m                                 Traceback (most recent call last)",
            "\u001b[0;32m/tmp/ipython-input-4209832784.py\u001b[0m in \u001b[0;36m<cell line: 0>\u001b[0;34m()\u001b[0m\n\u001b[1;32m      1\u001b[0m \u001b[0;31m# You should see an error when you run this.  (If you don't, you might\u001b[0m\u001b[0;34m\u001b[0m\u001b[0;34m\u001b[0m\u001b[0m\n\u001b[1;32m      2\u001b[0m \u001b[0;31m# have defined factor somewhere above.)\u001b[0m\u001b[0;34m\u001b[0m\u001b[0;34m\u001b[0m\u001b[0m\n\u001b[0;32m----> 3\u001b[0;31m \u001b[0mfactor\u001b[0m\u001b[0;34m\u001b[0m\u001b[0;34m\u001b[0m\u001b[0m\n\u001b[0m",
            "\u001b[0;31mNameError\u001b[0m: name 'factor' is not defined"
          ]
        }
      ],
      "source": [
        "# You should see an error when you run this.  (If you don't, you might\n",
        "# have defined factor somewhere above.)\n",
        "factor"
      ]
    },
    {
      "cell_type": "markdown",
      "metadata": {
        "id": "aaWM2I0YvgRI"
      },
      "source": [
        "As we've seen with built-in functions, functions can also take strings (or arrays, or tables) as arguments, and they can return those things, too.\n",
        "\n",
        "<span style='background:yellow'>**Question 1.3.**</span> Define a function called `disemvowel`.  It should take a single string as its argument.  (You can call that argument whatever you want.)  It should return a copy of that string, but with all the characters that are vowels removed.  (In English, the vowels are the characters \"a\", \"e\", \"i\", \"o\", and \"u\".) You can use as many lines inside of the function to do this as you’d like.\n",
        "\n",
        "*Hint:* To remove all the \"a\"s from a string, you can use `that_string.replace(\"a\", \"\")`.  The `.replace` method for strings returns a new string, so you can call `replace` multiple times, one after the other."
      ]
    },
    {
      "cell_type": "code",
      "execution_count": 8,
      "metadata": {
        "id": "238BhkjIvgRI",
        "colab": {
          "base_uri": "https://localhost:8080/",
          "height": 35
        },
        "outputId": "e19e23f3-10a7-4806-ae3b-598f81391615"
      },
      "outputs": [
        {
          "output_type": "execute_result",
          "data": {
            "text/plain": [
              "'Cn y rd ths wtht vwls?'"
            ],
            "application/vnd.google.colaboratory.intrinsic+json": {
              "type": "string"
            }
          },
          "metadata": {},
          "execution_count": 8
        }
      ],
      "source": [
        "def disemvowel(a_string):\n",
        "    no_vowels = a_string.replace(\"a\", \"\")\n",
        "    no_vowels = no_vowels.replace(\"e\", \"\")\n",
        "    no_vowels = no_vowels.replace(\"i\", \"\")\n",
        "    no_vowels = no_vowels.replace(\"o\", \"\")\n",
        "    no_vowels = no_vowels.replace(\"u\", \"\")\n",
        "    # also remove uppercase vowels\n",
        "    no_vowels = no_vowels.replace(\"A\", \"\")\n",
        "    no_vowels = no_vowels.replace(\"E\", \"\")\n",
        "    no_vowels = no_vowels.replace(\"I\", \"\")\n",
        "    no_vowels = no_vowels.replace(\"O\", \"\")\n",
        "    no_vowels = no_vowels.replace(\"U\", \"\")\n",
        "    return no_vowels\n",
        "\n",
        "# An example call to your function.  (It's often helpful to run\n",
        "# an example call from time to time while you're writing a function,\n",
        "# to see how it currently works.)\n",
        "disemvowel(\"Can you read this without vowels?\")"
      ]
    },
    {
      "cell_type": "code",
      "execution_count": 9,
      "metadata": {
        "id": "2YgNze8MvgRJ",
        "colab": {
          "base_uri": "https://localhost:8080/"
        },
        "outputId": "f8c0a10e-b247-476f-f412-e51d9b1b0e40"
      },
      "outputs": [
        {
          "output_type": "execute_result",
          "data": {
            "text/plain": [
              "True"
            ]
          },
          "metadata": {},
          "execution_count": 9
        }
      ],
      "source": [
        "# TEST\n",
        "disemvowel(\"Datascience rules!\") == \"Dtscnc rls!\""
      ]
    },
    {
      "cell_type": "markdown",
      "metadata": {
        "id": "HErkH0OVvgRJ"
      },
      "source": [
        "##### Calls on calls on calls\n",
        "Just as you write a series of lines to build up a complex computation, it's useful to define a series of small functions that build on each other.  Since you can write any code inside a function's body, you can call other functions you've written.\n",
        "\n",
        "If a function is a like a recipe, defining a function in terms of other functions is like having a recipe for cake telling you to follow another recipe to make the frosting, and another to make the jam filling.  This makes the cake recipe shorter and clearer, and it avoids having a bunch of duplicated frosting recipes.  It's a foundation of productive programming.\n",
        "\n",
        "For example, suppose you want to count the number of characters *that aren't vowels* in a piece of text.  One way to do that is this to remove all the vowels and count the size of the remaining string.\n",
        "\n",
        "<span style='background:yellow'>**Question 1.4.**</span> Write a function called `num_non_vowels`.  It should take a string as its argument and return a number.  That number should be the number of characters in the argument string that aren't vowels. You should use the `disemvowel` function you wrote above inside of the `num_non_vowels` function.\n",
        "\n",
        "*Hint:* The function `len` takes a string as its argument and returns the number of characters in it."
      ]
    },
    {
      "cell_type": "code",
      "execution_count": 10,
      "metadata": {
        "id": "ss1s4jOPvgRJ",
        "colab": {
          "base_uri": "https://localhost:8080/"
        },
        "outputId": "b62f5b63-05b0-4551-e685-4d21b13f5b0b"
      },
      "outputs": [
        {
          "output_type": "execute_result",
          "data": {
            "text/plain": [
              "14"
            ]
          },
          "metadata": {},
          "execution_count": 10
        }
      ],
      "source": [
        "def num_non_vowels(a_string):\n",
        "   word_count = disemvowel(a_string)\n",
        "   return len (word_count)\n",
        "\n",
        "# Try calling your function yourself to make sure the output is what\n",
        "# you expect.\n",
        "num_non_vowels(\"Cancel out all the aeiou?\")"
      ]
    },
    {
      "cell_type": "code",
      "execution_count": 11,
      "metadata": {
        "id": "blYNvnxSvgRJ",
        "colab": {
          "base_uri": "https://localhost:8080/"
        },
        "outputId": "c2bb97f3-1360-4ad3-cec7-08dac1fe42c5"
      },
      "outputs": [
        {
          "output_type": "execute_result",
          "data": {
            "text/plain": [
              "True"
            ]
          },
          "metadata": {},
          "execution_count": 11
        }
      ],
      "source": [
        "# TEST\n",
        "num_non_vowels(\"Go bears!\") == 6"
      ]
    },
    {
      "cell_type": "markdown",
      "metadata": {
        "id": "gPhOT-gdvgRJ"
      },
      "source": [
        "Functions can also encapsulate code that *displays output* instead of computing a value. For example, if you call `print` inside a function, and then call that function, something will get printed.\n",
        "\n",
        "The `movies_by_year` dataset in the textbook has information about movie sales in recent years.  Suppose you'd like to display the year with the 5th-highest total gross movie sales, printed in a human-readable way.  You might do this:"
      ]
    },
    {
      "cell_type": "code",
      "execution_count": 13,
      "metadata": {
        "id": "axTrm6muvgRK",
        "colab": {
          "base_uri": "https://localhost:8080/"
        },
        "outputId": "ba52d7c3-e879-47d3-b802-51bc41072f7f"
      },
      "outputs": [
        {
          "output_type": "stream",
          "name": "stdout",
          "text": [
            "Year number 5 for total gross movie sales was: 2010\n"
          ]
        }
      ],
      "source": [
        "movies_by_year = Table.read_table(\"movies_by_year.csv\")\n",
        "rank = 5\n",
        "fifth_from_top_movie_year = movies_by_year.sort(\"Total Gross\", descending=True).column(\"Year\").item(rank-1)\n",
        "print(\"Year number\", rank, \"for total gross movie sales was:\", fifth_from_top_movie_year)"
      ]
    },
    {
      "cell_type": "markdown",
      "metadata": {
        "id": "wuRk_VS0vgRK"
      },
      "source": [
        "After writing this, you realize you also wanted to print out the 2nd and 3rd-highest years.  Instead of copying your code, you decide to put it in a function.  Since the rank varies, you make that an argument to your function.\n",
        "\n",
        "<span style='background:yellow'>**Question 1.5.**</span> Write a function called `print_kth_top_movie_year`.  It should take a single argument, the rank of the year (like 2, 3, or 5 in the above examples).  It should print out a message like the one above.  \n",
        "\n",
        "*Note:* Your function shouldn't have a `return` statement."
      ]
    },
    {
      "cell_type": "code",
      "execution_count": 14,
      "metadata": {
        "id": "SifA-v2GvgRK",
        "colab": {
          "base_uri": "https://localhost:8080/"
        },
        "outputId": "588861a5-76b6-42ba-e0c4-dfbc24d62502"
      },
      "outputs": [
        {
          "output_type": "stream",
          "name": "stdout",
          "text": [
            "Year number 2 for total gross movie sales was: 2013\n",
            "Year number 3 for total gross movie sales was: 2012\n"
          ]
        }
      ],
      "source": [
        "def print_kth_top_movie_year(k):\n",
        "    top_movie_year = movies_by_year.sort(\"Total Gross\", descending=True).column(\"Year\").item(k-1)\n",
        "    print(\"Year number\", k , \"for total gross movie sales was:\",top_movie_year)\n",
        "\n",
        "# Example calls to your function:\n",
        "print_kth_top_movie_year(2)\n",
        "print_kth_top_movie_year(3)"
      ]
    },
    {
      "cell_type": "code",
      "execution_count": 15,
      "metadata": {
        "id": "FA8AnIWLvgRK",
        "colab": {
          "base_uri": "https://localhost:8080/"
        },
        "outputId": "ef840dc9-cdf1-4717-cdfd-85888d3e70cd"
      },
      "outputs": [
        {
          "output_type": "stream",
          "name": "stdout",
          "text": [
            "Year number 4 for total gross movie sales was: 2009\n"
          ]
        }
      ],
      "source": [
        "# TEST\n",
        "print_kth_top_movie_year(4) # Year number 4 for total gross movie sales was: 2009"
      ]
    },
    {
      "cell_type": "markdown",
      "metadata": {
        "id": "bUPtD0B4vgRK"
      },
      "source": [
        "### `print` is not the same as `return`\n",
        "The `print_kth_top_movie_year(k)` function prints the total gross movie sales for the year that was provided! However, since we did not return any value in this function, we can not use it after we call it. Let's look at an example of another function that prints a value but does not return it."
      ]
    },
    {
      "cell_type": "code",
      "execution_count": 16,
      "metadata": {
        "id": "-8XHCLPpvgRK"
      },
      "outputs": [],
      "source": [
        "def print_number_five():\n",
        "    print(5)"
      ]
    },
    {
      "cell_type": "code",
      "execution_count": 17,
      "metadata": {
        "id": "bBhPCEjZvgRK",
        "colab": {
          "base_uri": "https://localhost:8080/",
          "height": 141
        },
        "outputId": "e06dc32c-cee1-4c96-e8da-c20c6c2c3b34"
      },
      "outputs": [
        {
          "output_type": "error",
          "ename": "TypeError",
          "evalue": "print_number_five() takes 0 positional arguments but 1 was given",
          "traceback": [
            "\u001b[0;31m---------------------------------------------------------------------------\u001b[0m",
            "\u001b[0;31mTypeError\u001b[0m                                 Traceback (most recent call last)",
            "\u001b[0;32m/tmp/ipython-input-1917982548.py\u001b[0m in \u001b[0;36m<cell line: 0>\u001b[0;34m()\u001b[0m\n\u001b[0;32m----> 1\u001b[0;31m \u001b[0mprint_number_five\u001b[0m\u001b[0;34m(\u001b[0m\u001b[0;36m5\u001b[0m\u001b[0;34m)\u001b[0m\u001b[0;34m\u001b[0m\u001b[0;34m\u001b[0m\u001b[0m\n\u001b[0m",
            "\u001b[0;31mTypeError\u001b[0m: print_number_five() takes 0 positional arguments but 1 was given"
          ]
        }
      ],
      "source": [
        "print_number_five(5)"
      ]
    },
    {
      "cell_type": "markdown",
      "metadata": {
        "id": "jpf4HSx6vgRL"
      },
      "source": [
        "However, if we try to use the output of `print_number_five()`, we see that the value `5` is printed but we get a TypeError when we try to add the number 2 to it!"
      ]
    },
    {
      "cell_type": "code",
      "execution_count": 18,
      "metadata": {
        "id": "5LJ4mCCpvgRL",
        "colab": {
          "base_uri": "https://localhost:8080/",
          "height": 176
        },
        "outputId": "8c34600c-873a-4f67-f571-fbbbaf7168e6"
      },
      "outputs": [
        {
          "output_type": "stream",
          "name": "stdout",
          "text": [
            "5\n"
          ]
        },
        {
          "output_type": "error",
          "ename": "TypeError",
          "evalue": "unsupported operand type(s) for +: 'NoneType' and 'int'",
          "traceback": [
            "\u001b[0;31m---------------------------------------------------------------------------\u001b[0m",
            "\u001b[0;31mTypeError\u001b[0m                                 Traceback (most recent call last)",
            "\u001b[0;32m/tmp/ipython-input-55797484.py\u001b[0m in \u001b[0;36m<cell line: 0>\u001b[0;34m()\u001b[0m\n\u001b[1;32m      1\u001b[0m \u001b[0mprint_number_five_output\u001b[0m \u001b[0;34m=\u001b[0m \u001b[0mprint_number_five\u001b[0m\u001b[0;34m(\u001b[0m\u001b[0;34m)\u001b[0m\u001b[0;34m\u001b[0m\u001b[0;34m\u001b[0m\u001b[0m\n\u001b[0;32m----> 2\u001b[0;31m \u001b[0mprint_number_five_output\u001b[0m \u001b[0;34m+\u001b[0m \u001b[0;36m2\u001b[0m\u001b[0;34m\u001b[0m\u001b[0;34m\u001b[0m\u001b[0m\n\u001b[0m",
            "\u001b[0;31mTypeError\u001b[0m: unsupported operand type(s) for +: 'NoneType' and 'int'"
          ]
        }
      ],
      "source": [
        "print_number_five_output = print_number_five()\n",
        "print_number_five_output + 2"
      ]
    },
    {
      "cell_type": "markdown",
      "metadata": {
        "id": "lLrp5SS9vgRL"
      },
      "source": [
        "It may seem that `print_number_five()` is returning a value, 5. In reality, it just displays the number 5 to you without giving you the actual value! If your function prints out a value without returning it and you try to use that value, you will run into errors, so be careful!\n",
        "\n",
        "Explain to your neighbor how you might add a line of code to the `print_number_five` function (after `print(5)`) so that the code `print_number_five_output + 5` would result in the value `10`, rather than an error."
      ]
    },
    {
      "cell_type": "markdown",
      "metadata": {
        "id": "Rv7DtIKwvgRL"
      },
      "source": [
        "## 2. Functions and CEO Incomes\n",
        "\n",
        "In this question, we'll look at the 2015 compensation of CEOs at the 100 largest companies in California. The data was compiled from a [Los Angeles Times analysis](http://spreadsheets.latimes.com/california-ceo-compensation/), and ultimately came from [filings](https://www.sec.gov/answers/proxyhtf.htm) mandated by the SEC from all publicly-traded companies. Two companies have two CEOs, so there are 102 CEOs in the dataset.\n",
        "\n",
        "We've copied the raw data from the LA Times page into a file called `raw_compensation.csv`. (The page notes that all dollar amounts are in **millions of dollars**.)"
      ]
    },
    {
      "cell_type": "code",
      "execution_count": 19,
      "metadata": {
        "id": "NBudC8b-vgRL",
        "colab": {
          "base_uri": "https://localhost:8080/",
          "height": 601
        },
        "outputId": "3db5db5e-061f-4daf-8860-b8f5459bb124"
      },
      "outputs": [
        {
          "output_type": "execute_result",
          "data": {
            "text/plain": [
              "Rank | Name               | Company (Headquarters)         | Total Pay | % Change           | Cash Pay | Equity Pay | Other Pay | Ratio of CEO pay to average industry worker pay\n",
              "1    | Mark V. Hurd*      | Oracle (Redwood City)          | $53.25    | (No previous year) | $0.95    | $52.27     | $0.02     | 362\n",
              "2    | Safra A. Catz*     | Oracle (Redwood City)          | $53.24    | (No previous year) | $0.95    | $52.27     | $0.02     | 362\n",
              "3    | Robert A. Iger     | Walt Disney (Burbank)          | $44.91    | -3%                | $24.89   | $17.28     | $2.74     | 477\n",
              "4    | Marissa A. Mayer   | Yahoo! (Sunnyvale)             | $35.98    | -15%               | $1.00    | $34.43     | $0.55     | 342\n",
              "5    | Marc Benioff       | salesforce.com (San Francisco) | $33.36    | -16%               | $4.65    | $27.26     | $1.45     | 338\n",
              "6    | John H. Hammergren | McKesson (San Francisco)       | $24.84    | -4%                | $12.10   | $12.37     | $0.37     | 222\n",
              "7    | John S. Watson     | Chevron (San Ramon)            | $22.04    | -15%               | $4.31    | $14.68     | $3.05     | 183\n",
              "8    | Jeffrey Weiner     | LinkedIn (Mountain View)       | $19.86    | 27%                | $2.47    | $17.26     | $0.13     | 182\n",
              "9    | John T. Chambers** | Cisco Systems (San Jose)       | $19.62    | 19%                | $5.10    | $14.51     | $0.01     | 170\n",
              "10   | John G. Stumpf     | Wells Fargo  (San Francisco)   | $19.32    | -10%               | $6.80    | $12.50     | $0.02     | 256\n",
              "... (92 rows omitted)"
            ],
            "text/html": [
              "<table border=\"1\" class=\"dataframe\">\n",
              "    <thead>\n",
              "        <tr>\n",
              "            <th>Rank</th> <th>Name</th> <th>Company (Headquarters)</th> <th>Total Pay</th> <th>% Change</th> <th>Cash Pay</th> <th>Equity Pay</th> <th>Other Pay</th> <th>Ratio of CEO pay to average industry worker pay</th>\n",
              "        </tr>\n",
              "    </thead>\n",
              "    <tbody>\n",
              "        <tr>\n",
              "            <td>1   </td> <td>Mark V. Hurd*     </td> <td>Oracle (Redwood City)         </td> <td>$53.25   </td> <td>(No previous year)</td> <td>$0.95   </td> <td>$52.27    </td> <td>$0.02    </td> <td>362                                            </td>\n",
              "        </tr>\n",
              "        <tr>\n",
              "            <td>2   </td> <td>Safra A. Catz*    </td> <td>Oracle (Redwood City)         </td> <td>$53.24   </td> <td>(No previous year)</td> <td>$0.95   </td> <td>$52.27    </td> <td>$0.02    </td> <td>362                                            </td>\n",
              "        </tr>\n",
              "        <tr>\n",
              "            <td>3   </td> <td>Robert A. Iger    </td> <td>Walt Disney (Burbank)         </td> <td>$44.91   </td> <td>-3%               </td> <td>$24.89  </td> <td>$17.28    </td> <td>$2.74    </td> <td>477                                            </td>\n",
              "        </tr>\n",
              "        <tr>\n",
              "            <td>4   </td> <td>Marissa A. Mayer  </td> <td>Yahoo! (Sunnyvale)            </td> <td>$35.98   </td> <td>-15%              </td> <td>$1.00   </td> <td>$34.43    </td> <td>$0.55    </td> <td>342                                            </td>\n",
              "        </tr>\n",
              "        <tr>\n",
              "            <td>5   </td> <td>Marc Benioff      </td> <td>salesforce.com (San Francisco)</td> <td>$33.36   </td> <td>-16%              </td> <td>$4.65   </td> <td>$27.26    </td> <td>$1.45    </td> <td>338                                            </td>\n",
              "        </tr>\n",
              "        <tr>\n",
              "            <td>6   </td> <td>John H. Hammergren</td> <td>McKesson (San Francisco)      </td> <td>$24.84   </td> <td>-4%               </td> <td>$12.10  </td> <td>$12.37    </td> <td>$0.37    </td> <td>222                                            </td>\n",
              "        </tr>\n",
              "        <tr>\n",
              "            <td>7   </td> <td>John S. Watson    </td> <td>Chevron (San Ramon)           </td> <td>$22.04   </td> <td>-15%              </td> <td>$4.31   </td> <td>$14.68    </td> <td>$3.05    </td> <td>183                                            </td>\n",
              "        </tr>\n",
              "        <tr>\n",
              "            <td>8   </td> <td>Jeffrey Weiner    </td> <td>LinkedIn (Mountain View)      </td> <td>$19.86   </td> <td>27%               </td> <td>$2.47   </td> <td>$17.26    </td> <td>$0.13    </td> <td>182                                            </td>\n",
              "        </tr>\n",
              "        <tr>\n",
              "            <td>9   </td> <td>John T. Chambers**</td> <td>Cisco Systems (San Jose)      </td> <td>$19.62   </td> <td>19%               </td> <td>$5.10   </td> <td>$14.51    </td> <td>$0.01    </td> <td>170                                            </td>\n",
              "        </tr>\n",
              "        <tr>\n",
              "            <td>10  </td> <td>John G. Stumpf    </td> <td>Wells Fargo  (San Francisco)  </td> <td>$19.32   </td> <td>-10%              </td> <td>$6.80   </td> <td>$12.50    </td> <td>$0.02    </td> <td>256                                            </td>\n",
              "        </tr>\n",
              "    </tbody>\n",
              "</table>\n",
              "<p>... (92 rows omitted)</p>"
            ]
          },
          "metadata": {},
          "execution_count": 19
        }
      ],
      "source": [
        "raw_compensation = Table.read_table('raw_compensation.csv')\n",
        "raw_compensation"
      ]
    },
    {
      "cell_type": "markdown",
      "metadata": {
        "id": "wVDP46ssvgRL"
      },
      "source": [
        "We want to compute the average of the CEOs' pay. Try running the cell below."
      ]
    },
    {
      "cell_type": "code",
      "execution_count": 20,
      "metadata": {
        "id": "iMsg5JaevgRM",
        "colab": {
          "base_uri": "https://localhost:8080/",
          "height": 304
        },
        "outputId": "5ef4e645-53ca-4ee1-9325-5d54d5cfcb56"
      },
      "outputs": [
        {
          "output_type": "error",
          "ename": "TypeError",
          "evalue": "the resolved dtypes are not compatible with add.reduce. Resolved (dtype('<U7'), dtype('<U7'), dtype('<U14'))",
          "traceback": [
            "\u001b[0;31m---------------------------------------------------------------------------\u001b[0m",
            "\u001b[0;31mTypeError\u001b[0m                                 Traceback (most recent call last)",
            "\u001b[0;32m/tmp/ipython-input-1172901112.py\u001b[0m in \u001b[0;36m<cell line: 0>\u001b[0;34m()\u001b[0m\n\u001b[0;32m----> 1\u001b[0;31m \u001b[0mnp\u001b[0m\u001b[0;34m.\u001b[0m\u001b[0maverage\u001b[0m\u001b[0;34m(\u001b[0m\u001b[0mraw_compensation\u001b[0m\u001b[0;34m.\u001b[0m\u001b[0mcolumn\u001b[0m\u001b[0;34m(\u001b[0m\u001b[0;34m\"Total Pay\"\u001b[0m\u001b[0;34m)\u001b[0m\u001b[0;34m)\u001b[0m\u001b[0;34m\u001b[0m\u001b[0;34m\u001b[0m\u001b[0m\n\u001b[0m",
            "\u001b[0;32m/usr/local/lib/python3.12/dist-packages/numpy/lib/_function_base_impl.py\u001b[0m in \u001b[0;36maverage\u001b[0;34m(a, axis, weights, returned, keepdims)\u001b[0m\n\u001b[1;32m    555\u001b[0m \u001b[0;34m\u001b[0m\u001b[0m\n\u001b[1;32m    556\u001b[0m     \u001b[0;32mif\u001b[0m \u001b[0mweights\u001b[0m \u001b[0;32mis\u001b[0m \u001b[0;32mNone\u001b[0m\u001b[0;34m:\u001b[0m\u001b[0;34m\u001b[0m\u001b[0;34m\u001b[0m\u001b[0m\n\u001b[0;32m--> 557\u001b[0;31m         \u001b[0mavg\u001b[0m \u001b[0;34m=\u001b[0m \u001b[0ma\u001b[0m\u001b[0;34m.\u001b[0m\u001b[0mmean\u001b[0m\u001b[0;34m(\u001b[0m\u001b[0maxis\u001b[0m\u001b[0;34m,\u001b[0m \u001b[0;34m**\u001b[0m\u001b[0mkeepdims_kw\u001b[0m\u001b[0;34m)\u001b[0m\u001b[0;34m\u001b[0m\u001b[0;34m\u001b[0m\u001b[0m\n\u001b[0m\u001b[1;32m    558\u001b[0m         \u001b[0mavg_as_array\u001b[0m \u001b[0;34m=\u001b[0m \u001b[0mnp\u001b[0m\u001b[0;34m.\u001b[0m\u001b[0masanyarray\u001b[0m\u001b[0;34m(\u001b[0m\u001b[0mavg\u001b[0m\u001b[0;34m)\u001b[0m\u001b[0;34m\u001b[0m\u001b[0;34m\u001b[0m\u001b[0m\n\u001b[1;32m    559\u001b[0m         \u001b[0mscl\u001b[0m \u001b[0;34m=\u001b[0m \u001b[0mavg_as_array\u001b[0m\u001b[0;34m.\u001b[0m\u001b[0mdtype\u001b[0m\u001b[0;34m.\u001b[0m\u001b[0mtype\u001b[0m\u001b[0;34m(\u001b[0m\u001b[0ma\u001b[0m\u001b[0;34m.\u001b[0m\u001b[0msize\u001b[0m\u001b[0;34m/\u001b[0m\u001b[0mavg_as_array\u001b[0m\u001b[0;34m.\u001b[0m\u001b[0msize\u001b[0m\u001b[0;34m)\u001b[0m\u001b[0;34m\u001b[0m\u001b[0;34m\u001b[0m\u001b[0m\n",
            "\u001b[0;32m/usr/local/lib/python3.12/dist-packages/numpy/_core/_methods.py\u001b[0m in \u001b[0;36m_mean\u001b[0;34m(a, axis, dtype, out, keepdims, where)\u001b[0m\n\u001b[1;32m    125\u001b[0m             \u001b[0mis_float16_result\u001b[0m \u001b[0;34m=\u001b[0m \u001b[0;32mTrue\u001b[0m\u001b[0;34m\u001b[0m\u001b[0;34m\u001b[0m\u001b[0m\n\u001b[1;32m    126\u001b[0m \u001b[0;34m\u001b[0m\u001b[0m\n\u001b[0;32m--> 127\u001b[0;31m     \u001b[0mret\u001b[0m \u001b[0;34m=\u001b[0m \u001b[0mumr_sum\u001b[0m\u001b[0;34m(\u001b[0m\u001b[0marr\u001b[0m\u001b[0;34m,\u001b[0m \u001b[0maxis\u001b[0m\u001b[0;34m,\u001b[0m \u001b[0mdtype\u001b[0m\u001b[0;34m,\u001b[0m \u001b[0mout\u001b[0m\u001b[0;34m,\u001b[0m \u001b[0mkeepdims\u001b[0m\u001b[0;34m,\u001b[0m \u001b[0mwhere\u001b[0m\u001b[0;34m=\u001b[0m\u001b[0mwhere\u001b[0m\u001b[0;34m)\u001b[0m\u001b[0;34m\u001b[0m\u001b[0;34m\u001b[0m\u001b[0m\n\u001b[0m\u001b[1;32m    128\u001b[0m     \u001b[0;32mif\u001b[0m \u001b[0misinstance\u001b[0m\u001b[0;34m(\u001b[0m\u001b[0mret\u001b[0m\u001b[0;34m,\u001b[0m \u001b[0mmu\u001b[0m\u001b[0;34m.\u001b[0m\u001b[0mndarray\u001b[0m\u001b[0;34m)\u001b[0m\u001b[0;34m:\u001b[0m\u001b[0;34m\u001b[0m\u001b[0;34m\u001b[0m\u001b[0m\n\u001b[1;32m    129\u001b[0m         \u001b[0;32mwith\u001b[0m \u001b[0m_no_nep50_warning\u001b[0m\u001b[0;34m(\u001b[0m\u001b[0;34m)\u001b[0m\u001b[0;34m:\u001b[0m\u001b[0;34m\u001b[0m\u001b[0;34m\u001b[0m\u001b[0m\n",
            "\u001b[0;31mTypeError\u001b[0m: the resolved dtypes are not compatible with add.reduce. Resolved (dtype('<U7'), dtype('<U7'), dtype('<U14'))"
          ]
        }
      ],
      "source": [
        "np.average(raw_compensation.column(\"Total Pay\"))"
      ]
    },
    {
      "cell_type": "markdown",
      "metadata": {
        "id": "VlsqiIchvgRM"
      },
      "source": [
        "You should see a TypeError. Let's examine why this error occurred by looking at the values in the `Total Pay` column.\n",
        "\n",
        "<span style='background:yellow'>**Question 2.1.**</span> Use the `type` function and set `total_pay_type` to the type of the first value in the \"Total Pay\" column."
      ]
    },
    {
      "cell_type": "code",
      "execution_count": 21,
      "metadata": {
        "id": "cy3s-TrDvgRM",
        "colab": {
          "base_uri": "https://localhost:8080/"
        },
        "outputId": "6820783c-64bd-4c14-c161-b16dd254b1a7"
      },
      "outputs": [
        {
          "output_type": "execute_result",
          "data": {
            "text/plain": [
              "str"
            ]
          },
          "metadata": {},
          "execution_count": 21
        }
      ],
      "source": [
        "total_pay_type = type(raw_compensation.column(\"Total Pay\").item(0))\n",
        "total_pay_type"
      ]
    },
    {
      "cell_type": "code",
      "execution_count": 22,
      "metadata": {
        "id": "q01kEjoSvgRM",
        "colab": {
          "base_uri": "https://localhost:8080/"
        },
        "outputId": "c60ebfb1-cfdc-48ba-ef5f-59884b14a9a0"
      },
      "outputs": [
        {
          "output_type": "execute_result",
          "data": {
            "text/plain": [
              "True"
            ]
          },
          "metadata": {},
          "execution_count": 22
        }
      ],
      "source": [
        "# TEST\n",
        "# Make sure you are examining the values in the column, not the column itself\n",
        "import numpy\n",
        "total_pay_type != numpy.ndarray"
      ]
    },
    {
      "cell_type": "code",
      "execution_count": 23,
      "metadata": {
        "id": "fbRwaV3BvgRM",
        "colab": {
          "base_uri": "https://localhost:8080/"
        },
        "outputId": "a4738a93-e72d-4936-d2c3-787dc9117d22"
      },
      "outputs": [
        {
          "output_type": "execute_result",
          "data": {
            "text/plain": [
              "True"
            ]
          },
          "metadata": {},
          "execution_count": 23
        }
      ],
      "source": [
        "\n",
        "# TEST\n",
        "'str' in str(total_pay_type)"
      ]
    },
    {
      "cell_type": "code",
      "execution_count": 24,
      "metadata": {
        "id": "dC5W-u0RvgRM",
        "colab": {
          "base_uri": "https://localhost:8080/"
        },
        "outputId": "f240725d-f71a-41fa-fa4a-665ac2000916"
      },
      "outputs": [
        {
          "output_type": "execute_result",
          "data": {
            "text/plain": [
              "True"
            ]
          },
          "metadata": {},
          "execution_count": 24
        }
      ],
      "source": [
        "# TEST\n",
        "# Make sure to call the type function on a value in the column\n",
        "total_pay_type != int"
      ]
    },
    {
      "cell_type": "markdown",
      "metadata": {
        "id": "fh_yVRKGvgRM"
      },
      "source": [
        "<span style='background:yellow'>**Question 2.2.**</span> You should have found that the values in the `Total Pay` column are strings. It doesn't make sense to take the average of string values, so we need to convert them to numbers if we want to do this. Extract the first value in `Total Pay`.  It's Mark Hurd's pay in 2015, in *millions* of dollars.  Call it `mark_hurd_pay_string`."
      ]
    },
    {
      "cell_type": "code",
      "execution_count": 25,
      "metadata": {
        "id": "GjCi6wy2vgRM",
        "colab": {
          "base_uri": "https://localhost:8080/",
          "height": 35
        },
        "outputId": "d7706706-65f0-4ff0-ce16-23bbea51f53b"
      },
      "outputs": [
        {
          "output_type": "execute_result",
          "data": {
            "text/plain": [
              "'$53.25 '"
            ],
            "application/vnd.google.colaboratory.intrinsic+json": {
              "type": "string"
            }
          },
          "metadata": {},
          "execution_count": 25
        }
      ],
      "source": [
        "mark_hurd_pay_string = raw_compensation.column(\"Total Pay\").item(0)\n",
        "mark_hurd_pay_string"
      ]
    },
    {
      "cell_type": "code",
      "execution_count": 26,
      "metadata": {
        "id": "t4C2nJwnvgRM",
        "colab": {
          "base_uri": "https://localhost:8080/"
        },
        "outputId": "58e98a81-a294-447c-b56b-ece88679b985"
      },
      "outputs": [
        {
          "output_type": "execute_result",
          "data": {
            "text/plain": [
              "True"
            ]
          },
          "metadata": {},
          "execution_count": 26
        }
      ],
      "source": [
        "# TEST\n",
        "str(mark_hurd_pay_string) == '$53.25 '"
      ]
    },
    {
      "cell_type": "markdown",
      "metadata": {
        "id": "x_TwSB8BvgRM"
      },
      "source": [
        "<span style='background:yellow'>**Question 2.3.**</span> Convert `mark_hurd_pay_string` to a number of *dollars*.\n",
        "\n",
        "Some hints, as this question requires multiple steps:\n",
        "- The string method `strip` will be useful for removing the dollar sign; it removes a specified character from the start or end of a string.  For example, the value of `\"100%\".strip(\"%\")` is the string `\"100\"`.  \n",
        "- You'll also need the function `float`, which converts a string that looks like a number to an actual number.  \n",
        "- Finally, remember that the answer should be in dollars, not millions of dollars."
      ]
    },
    {
      "cell_type": "code",
      "execution_count": 27,
      "metadata": {
        "id": "ocI1VGSivgRN",
        "colab": {
          "base_uri": "https://localhost:8080/"
        },
        "outputId": "8b270a4a-65f4-4afc-8d7e-a0585fcec6b0"
      },
      "outputs": [
        {
          "output_type": "execute_result",
          "data": {
            "text/plain": [
              "53250000.0"
            ]
          },
          "metadata": {},
          "execution_count": 27
        }
      ],
      "source": [
        "mark_hurd_pay = float(mark_hurd_pay_string.strip(\"$\")) * 1_000_000\n",
        "mark_hurd_pay"
      ]
    },
    {
      "cell_type": "code",
      "execution_count": 28,
      "metadata": {
        "id": "f1cEqjNFvgRN",
        "colab": {
          "base_uri": "https://localhost:8080/"
        },
        "outputId": "21982900-fb85-48ac-d48d-5e45eac7f7f3"
      },
      "outputs": [
        {
          "output_type": "execute_result",
          "data": {
            "text/plain": [
              "True"
            ]
          },
          "metadata": {},
          "execution_count": 28
        }
      ],
      "source": [
        "# TEST\n",
        "# Your answer should be a number\n",
        "type(mark_hurd_pay) != str"
      ]
    },
    {
      "cell_type": "code",
      "execution_count": 29,
      "metadata": {
        "id": "TO8QU0QOvgRN",
        "colab": {
          "base_uri": "https://localhost:8080/"
        },
        "outputId": "578c2068-332f-47c5-d184-cc88d709be75"
      },
      "outputs": [
        {
          "output_type": "execute_result",
          "data": {
            "text/plain": [
              "True"
            ]
          },
          "metadata": {},
          "execution_count": 29
        }
      ],
      "source": [
        "# TEST\n",
        "# Don't forget to give your answer in dollars, not millions of\n",
        "# Dollars!\n",
        "mark_hurd_pay != 5325"
      ]
    },
    {
      "cell_type": "code",
      "execution_count": 30,
      "metadata": {
        "id": "89e1ABfvvgRN",
        "colab": {
          "base_uri": "https://localhost:8080/"
        },
        "outputId": "99912d1b-07c1-4eec-9e2d-2c6522b91f56"
      },
      "outputs": [
        {
          "output_type": "execute_result",
          "data": {
            "text/plain": [
              "True"
            ]
          },
          "metadata": {},
          "execution_count": 30
        }
      ],
      "source": [
        "# TEST\n",
        "# Don't forget to give your answer in dollars, not millions of\n",
        "# Dollars!\n",
        "mark_hurd_pay == 53250000"
      ]
    },
    {
      "cell_type": "markdown",
      "metadata": {
        "id": "SBOA9YBlvgRN"
      },
      "source": [
        "To compute the average pay, we need to do this for every CEO.  But that looks like it would involve copying this code 102 times.\n",
        "\n",
        "This is where functions come in.  First, we'll define a new function, giving a name to the expression that converts \"total pay\" strings to numeric values.  Later in this lab, we'll see the payoff: we can call that function on every pay string in the dataset at once.\n",
        "\n",
        "The next section of this lab explains how to define a function For now, just fill in the ellipses in the cell below.\n",
        "\n",
        "<span style='background:yellow'>**Question 2.4.**</span> Copy the expression you used to compute `mark_hurd_pay`, and use it as the return expression of the function below. But make sure you replace the specific `mark_hurd_pay_string` with the generic `pay_string` name specified in the first line in the `def` statement.\n",
        "\n",
        "*Hint*: When dealing with functions, you should generally not be referencing any variable outside of the function. Usually, you want to be working with the arguments that are passed into it, such as `pay_string` for this function. If you're using `mark_hurd_pay_string` within your function, you're referencing an outside variable!"
      ]
    },
    {
      "cell_type": "code",
      "execution_count": 31,
      "metadata": {
        "id": "Pc7oBD9kvgRN"
      },
      "outputs": [],
      "source": [
        "def convert_pay_string_to_number(pay_string):\n",
        "    \"\"\"Converts a pay string like '$100' (in millions) to a number of dollars.\"\"\"\n",
        "    final= float(pay_string.strip(\"$\")) * 1_000_000\n",
        "    return final"
      ]
    },
    {
      "cell_type": "code",
      "execution_count": 32,
      "metadata": {
        "id": "_LWu93ZuvgRN",
        "colab": {
          "base_uri": "https://localhost:8080/"
        },
        "outputId": "7b765d29-a9dd-4348-c00a-a32678c354cf"
      },
      "outputs": [
        {
          "output_type": "execute_result",
          "data": {
            "text/plain": [
              "True"
            ]
          },
          "metadata": {},
          "execution_count": 32
        }
      ],
      "source": [
        "# TEST\n",
        "convert_pay_string_to_number(\"$100 \") == 100000000.0"
      ]
    },
    {
      "cell_type": "code",
      "execution_count": 33,
      "metadata": {
        "id": "GqUtnP27vgRO",
        "colab": {
          "base_uri": "https://localhost:8080/"
        },
        "outputId": "6fd90e16-a8c2-49de-b529-b09a2ce7ac49"
      },
      "outputs": [
        {
          "output_type": "execute_result",
          "data": {
            "text/plain": [
              "True"
            ]
          },
          "metadata": {},
          "execution_count": 33
        }
      ],
      "source": [
        "# TEST\n",
        "convert_pay_string_to_number(\"$23 \") == 23000000.0"
      ]
    },
    {
      "cell_type": "markdown",
      "metadata": {
        "id": "kD4nE8CovgRO"
      },
      "source": [
        "Running that cell doesn't convert any particular pay string. Instead, it creates a function called `convert_pay_string_to_number` that can convert *any* string with the right format to a number representing millions of dollars.\n",
        "\n",
        "We can call our function just like we call the built-in functions we've seen. It takes one argument -- a string -- and it returns a float."
      ]
    },
    {
      "cell_type": "code",
      "execution_count": 34,
      "metadata": {
        "id": "RhiuNvU9vgRO",
        "colab": {
          "base_uri": "https://localhost:8080/"
        },
        "outputId": "03cf9cda-e6a8-414a-f2d9-40907cbc8217"
      },
      "outputs": [
        {
          "output_type": "execute_result",
          "data": {
            "text/plain": [
              "42000000.0"
            ]
          },
          "metadata": {},
          "execution_count": 34
        }
      ],
      "source": [
        "convert_pay_string_to_number('$42')"
      ]
    },
    {
      "cell_type": "code",
      "execution_count": 35,
      "metadata": {
        "id": "fBcyuFH3vgRO",
        "colab": {
          "base_uri": "https://localhost:8080/"
        },
        "outputId": "19e39fad-88e0-4373-a1be-c1a14bf318d6"
      },
      "outputs": [
        {
          "output_type": "execute_result",
          "data": {
            "text/plain": [
              "53250000.0"
            ]
          },
          "metadata": {},
          "execution_count": 35
        }
      ],
      "source": [
        "convert_pay_string_to_number(mark_hurd_pay_string)"
      ]
    },
    {
      "cell_type": "code",
      "execution_count": 36,
      "metadata": {
        "id": "oQnhBfTyvgRO",
        "colab": {
          "base_uri": "https://localhost:8080/"
        },
        "outputId": "bba0b0dd-5680-4cc0-a7f4-1e2facef088a"
      },
      "outputs": [
        {
          "output_type": "execute_result",
          "data": {
            "text/plain": [
              "53240000.0"
            ]
          },
          "metadata": {},
          "execution_count": 36
        }
      ],
      "source": [
        "# We can also compute Safra Catz's pay in the same way:\n",
        "convert_pay_string_to_number(raw_compensation.where(\"Name\", are.containing(\"Safra\")).column(\"Total Pay\").item(0))"
      ]
    },
    {
      "cell_type": "markdown",
      "metadata": {
        "id": "yckGHpoLvgRO"
      },
      "source": [
        "So, what have we gained by defining the `convert_pay_string_to_number` function?\n",
        "Well, without it, we'd have to copy the code `10**6 * float(some_pay_string.strip(\"$\"))` each time we wanted to convert a pay string.  Now we just call a function whose name says exactly what it's doing."
      ]
    },
    {
      "cell_type": "markdown",
      "metadata": {
        "id": "K-Y_r01XvgRO"
      },
      "source": [
        "## 3. `apply`ing functions\n",
        "\n",
        "Defining a function is a lot like giving a name to a value with `=`.  In fact, a function is a value just like the number 1 or the text \"data\"!\n",
        "\n",
        "For example, we can make a new name for the built-in function `max` if we want:"
      ]
    },
    {
      "cell_type": "code",
      "execution_count": 37,
      "metadata": {
        "id": "rWRYB3oEvgRP",
        "colab": {
          "base_uri": "https://localhost:8080/"
        },
        "outputId": "0fdc700f-cbee-46dc-940c-22607e44e85b"
      },
      "outputs": [
        {
          "output_type": "execute_result",
          "data": {
            "text/plain": [
              "6"
            ]
          },
          "metadata": {},
          "execution_count": 37
        }
      ],
      "source": [
        "our_name_for_max = max\n",
        "our_name_for_max(2, 6)"
      ]
    },
    {
      "cell_type": "markdown",
      "metadata": {
        "id": "toFF10jOvgRP"
      },
      "source": [
        "The old name for `max` is still around:"
      ]
    },
    {
      "cell_type": "code",
      "execution_count": 38,
      "metadata": {
        "id": "lSmqsNukvgRP",
        "colab": {
          "base_uri": "https://localhost:8080/"
        },
        "outputId": "60ad05b3-1c45-4239-dad9-e0d12faee297"
      },
      "outputs": [
        {
          "output_type": "execute_result",
          "data": {
            "text/plain": [
              "6"
            ]
          },
          "metadata": {},
          "execution_count": 38
        }
      ],
      "source": [
        "max(2, 6)"
      ]
    },
    {
      "cell_type": "markdown",
      "metadata": {
        "id": "rDpStYSrvgRP"
      },
      "source": [
        "Try just writing `max` or `our_name_for_max` (or the name of any other function) in a cell, and run that cell.  Python will print out a (very brief) description of the function."
      ]
    },
    {
      "cell_type": "code",
      "execution_count": 39,
      "metadata": {
        "id": "jf9-MTPUvgRP",
        "colab": {
          "base_uri": "https://localhost:8080/"
        },
        "outputId": "403ebf8a-76cc-48da-ec3c-11d8e4891827"
      },
      "outputs": [
        {
          "output_type": "execute_result",
          "data": {
            "text/plain": [
              "<function max>"
            ]
          },
          "metadata": {},
          "execution_count": 39
        }
      ],
      "source": [
        "max"
      ]
    },
    {
      "cell_type": "markdown",
      "metadata": {
        "id": "zLelkekrvgRQ"
      },
      "source": [
        "Now try writing `?max` or `?our_name_for_max` (or the name of any other function) in a cell, and run that cell.  A information box should show up at the bottom of your screen a longer description of the function\n",
        "\n",
        "*Note: You can also press Shift+Tab after clicking on a name to see similar information!*"
      ]
    },
    {
      "cell_type": "code",
      "execution_count": 40,
      "metadata": {
        "id": "dc7ef0jzvgRQ"
      },
      "outputs": [],
      "source": [
        "?max"
      ]
    },
    {
      "cell_type": "markdown",
      "metadata": {
        "id": "0d5tIMWKvgRQ"
      },
      "source": [
        "Let's look at what happens when we set `max`to a non-function value. You'll notice that a TypeError will occur when you try calling `max`. Things like integers and strings are not callable. Look out for any functions that might have been renamed when you encounter this type of error"
      ]
    },
    {
      "cell_type": "code",
      "execution_count": 41,
      "metadata": {
        "id": "aZR_YhxovgRQ",
        "colab": {
          "base_uri": "https://localhost:8080/",
          "height": 159
        },
        "outputId": "5597d997-0b2a-47ba-cc97-bdc9ace37b4b"
      },
      "outputs": [
        {
          "output_type": "error",
          "ename": "TypeError",
          "evalue": "'int' object is not callable",
          "traceback": [
            "\u001b[0;31m---------------------------------------------------------------------------\u001b[0m",
            "\u001b[0;31mTypeError\u001b[0m                                 Traceback (most recent call last)",
            "\u001b[0;32m/tmp/ipython-input-2218400260.py\u001b[0m in \u001b[0;36m<cell line: 0>\u001b[0;34m()\u001b[0m\n\u001b[1;32m      1\u001b[0m \u001b[0mmax\u001b[0m \u001b[0;34m=\u001b[0m \u001b[0;36m6\u001b[0m\u001b[0;34m\u001b[0m\u001b[0;34m\u001b[0m\u001b[0m\n\u001b[0;32m----> 2\u001b[0;31m \u001b[0mmax\u001b[0m\u001b[0;34m(\u001b[0m\u001b[0;36m2\u001b[0m\u001b[0;34m,\u001b[0m \u001b[0;36m6\u001b[0m\u001b[0;34m)\u001b[0m\u001b[0;34m\u001b[0m\u001b[0;34m\u001b[0m\u001b[0m\n\u001b[0m",
            "\u001b[0;31mTypeError\u001b[0m: 'int' object is not callable"
          ]
        }
      ],
      "source": [
        "max = 6\n",
        "max(2, 6)"
      ]
    },
    {
      "cell_type": "code",
      "execution_count": 42,
      "metadata": {
        "id": "eepNQl3nvgRQ"
      },
      "outputs": [],
      "source": [
        "# This cell resets max to the built-in function. Just run this cell, don't change its contents\n",
        "import builtins\n",
        "max = builtins.max"
      ]
    },
    {
      "cell_type": "markdown",
      "metadata": {
        "id": "JSq2mRQvvgRQ"
      },
      "source": [
        "Why is this useful?  Since functions are just values, it's possible to pass them as arguments to other functions.  Here's a simple but not-so-practical example: we can make an array of functions."
      ]
    },
    {
      "cell_type": "code",
      "execution_count": 43,
      "metadata": {
        "id": "Cyihs7FNvgRQ",
        "colab": {
          "base_uri": "https://localhost:8080/"
        },
        "outputId": "2c67454d-75c5-43a3-b7a6-abff5a39ad52"
      },
      "outputs": [
        {
          "output_type": "execute_result",
          "data": {
            "text/plain": [
              "array([<built-in function max>, <function average at 0x7a980d3b5670>,\n",
              "       <function are.equal_to at 0x7a97d613f1a0>], dtype=object)"
            ]
          },
          "metadata": {},
          "execution_count": 43
        }
      ],
      "source": [
        "make_array(max, np.average, are.equal_to)"
      ]
    },
    {
      "cell_type": "markdown",
      "metadata": {
        "id": "LYmZUwKhvgRQ"
      },
      "source": [
        "<span style='background:yellow'>**Question 3.1.**</span> Make an array containing any 3 other functions you've seen.  Call it `some_functions`."
      ]
    },
    {
      "cell_type": "code",
      "execution_count": 44,
      "metadata": {
        "id": "vt1ipnkBvgRQ",
        "colab": {
          "base_uri": "https://localhost:8080/"
        },
        "outputId": "eeac7cfe-7ee8-4390-86e4-1c0960f6e048"
      },
      "outputs": [
        {
          "output_type": "execute_result",
          "data": {
            "text/plain": [
              "array([<built-in function len>, <built-in function sum>,\n",
              "       <built-in function max>], dtype=object)"
            ]
          },
          "metadata": {},
          "execution_count": 44
        }
      ],
      "source": [
        "import numpy as np\n",
        "some_functions = np.array([len, sum, max])\n",
        "some_functions"
      ]
    },
    {
      "cell_type": "code",
      "execution_count": 45,
      "metadata": {
        "id": "ViJIGyNyvgRR",
        "colab": {
          "base_uri": "https://localhost:8080/"
        },
        "outputId": "2e4bddc1-f536-4d77-d733-241d2d22fa60"
      },
      "outputs": [
        {
          "output_type": "execute_result",
          "data": {
            "text/plain": [
              "True"
            ]
          },
          "metadata": {},
          "execution_count": 45
        }
      ],
      "source": [
        "# TEST\n",
        "len(some_functions)==3"
      ]
    },
    {
      "cell_type": "code",
      "execution_count": 46,
      "metadata": {
        "id": "piIFttKVvgRR",
        "colab": {
          "base_uri": "https://localhost:8080/"
        },
        "outputId": "7bcc4f45-2048-4a47-b170-3d617c7b4195"
      },
      "outputs": [
        {
          "output_type": "execute_result",
          "data": {
            "text/plain": [
              "True"
            ]
          },
          "metadata": {},
          "execution_count": 46
        }
      ],
      "source": [
        "# TEST\n",
        "# The first thing in your array may not be a function.\n",
        "callable(some_functions.item(0))"
      ]
    },
    {
      "cell_type": "code",
      "execution_count": 47,
      "metadata": {
        "id": "ninSthwJvgRR",
        "colab": {
          "base_uri": "https://localhost:8080/"
        },
        "outputId": "71c2e21c-16f3-47d7-9908-4350b8958922"
      },
      "outputs": [
        {
          "output_type": "execute_result",
          "data": {
            "text/plain": [
              "True"
            ]
          },
          "metadata": {},
          "execution_count": 47
        }
      ],
      "source": [
        "# TEST\n",
        "# The second thing in your array may not be a function.\n",
        "callable(some_functions.item(1))"
      ]
    },
    {
      "cell_type": "code",
      "execution_count": 48,
      "metadata": {
        "id": "vYrdPUrEvgRR",
        "colab": {
          "base_uri": "https://localhost:8080/"
        },
        "outputId": "c0d8e396-bbc0-4645-a5f6-153b7b10cc0f"
      },
      "outputs": [
        {
          "output_type": "execute_result",
          "data": {
            "text/plain": [
              "True"
            ]
          },
          "metadata": {},
          "execution_count": 48
        }
      ],
      "source": [
        "# TEST\n",
        "# The third thing in your array may not be a function.\n",
        "callable(some_functions.item(2))"
      ]
    },
    {
      "cell_type": "markdown",
      "metadata": {
        "id": "kD9-kq5QvgRR"
      },
      "source": [
        "Working with functions as values can lead to some funny-looking code. For example, see if you can figure out why the following code works. Check your explanation with a neighbor or a staff member."
      ]
    },
    {
      "cell_type": "code",
      "execution_count": 49,
      "metadata": {
        "id": "TCKjqDxhvgRR",
        "colab": {
          "base_uri": "https://localhost:8080/"
        },
        "outputId": "7ea17929-74ef-4f16-e878-35466e93b285"
      },
      "outputs": [
        {
          "output_type": "execute_result",
          "data": {
            "text/plain": [
              "7"
            ]
          },
          "metadata": {},
          "execution_count": 49
        }
      ],
      "source": [
        "make_array(max, np.average, are.equal_to).item(0)(4, -2, 7)"
      ]
    },
    {
      "cell_type": "markdown",
      "metadata": {
        "id": "W2HM840VvgRR"
      },
      "source": [
        "A more useful example of passing functions to other functions as arguments is the table method `apply`.\n",
        "\n",
        "`apply` calls a function many times, once on *each* element in a column of a table.  It produces an *array* of the results.  Here we use `apply` to convert every CEO's pay to a number, using the function you defined:"
      ]
    },
    {
      "cell_type": "code",
      "execution_count": 50,
      "metadata": {
        "id": "5sG0-V0CvgRR",
        "colab": {
          "base_uri": "https://localhost:8080/"
        },
        "outputId": "81e0ee34-e979-4b0f-a5a3-8b81ce83faf8"
      },
      "outputs": [
        {
          "output_type": "execute_result",
          "data": {
            "text/plain": [
              "array([  5.32500000e+07,   5.32400000e+07,   4.49100000e+07,\n",
              "         3.59800000e+07,   3.33600000e+07,   2.48400000e+07,\n",
              "         2.20400000e+07,   1.98600000e+07,   1.96200000e+07,\n",
              "         1.93200000e+07,   1.87600000e+07,   1.86100000e+07,\n",
              "         1.83600000e+07,   1.80900000e+07,   1.71000000e+07,\n",
              "         1.66300000e+07,   1.63300000e+07,   1.61400000e+07,\n",
              "         1.61000000e+07,   1.60200000e+07,   1.51000000e+07,\n",
              "         1.49800000e+07,   1.46300000e+07,   1.45100000e+07,\n",
              "         1.44400000e+07,   1.43600000e+07,   1.43100000e+07,\n",
              "         1.40900000e+07,   1.40000000e+07,   1.36700000e+07,\n",
              "         1.23400000e+07,   1.22000000e+07,   1.21800000e+07,\n",
              "         1.21300000e+07,   1.20500000e+07,   1.18400000e+07,\n",
              "         1.17100000e+07,   1.16300000e+07,   1.11600000e+07,\n",
              "         1.11100000e+07,   1.11100000e+07,   1.07300000e+07,\n",
              "         1.05000000e+07,   1.04300000e+07,   1.03700000e+07,\n",
              "         1.02800000e+07,   1.02700000e+07,   1.01800000e+07,\n",
              "         1.01600000e+07,   9.97000000e+06,   9.96000000e+06,\n",
              "         9.86000000e+06,   9.74000000e+06,   9.42000000e+06,\n",
              "         9.39000000e+06,   9.22000000e+06,   9.06000000e+06,\n",
              "         9.03000000e+06,   8.86000000e+06,   8.76000000e+06,\n",
              "         8.57000000e+06,   8.38000000e+06,   8.36000000e+06,\n",
              "         8.35000000e+06,   8.23000000e+06,   7.86000000e+06,\n",
              "         7.70000000e+06,   7.58000000e+06,   7.51000000e+06,\n",
              "         7.23000000e+06,   7.21000000e+06,   7.12000000e+06,\n",
              "         6.88000000e+06,   6.77000000e+06,   6.64000000e+06,\n",
              "         6.56000000e+06,   6.14000000e+06,   5.92000000e+06,\n",
              "         5.90000000e+06,   5.89000000e+06,   5.73000000e+06,\n",
              "         5.42000000e+06,   5.04000000e+06,   4.92000000e+06,\n",
              "         4.92000000e+06,   4.47000000e+06,   4.25000000e+06,\n",
              "         4.08000000e+06,   3.93000000e+06,   3.72000000e+06,\n",
              "         2.88000000e+06,   2.83000000e+06,   2.82000000e+06,\n",
              "         2.45000000e+06,   1.79000000e+06,   1.68000000e+06,\n",
              "         1.53000000e+06,   9.40000000e+05,   8.10000000e+05,\n",
              "         7.00000000e+04,   4.00000000e+04,   0.00000000e+00])"
            ]
          },
          "metadata": {},
          "execution_count": 50
        }
      ],
      "source": [
        "raw_compensation.apply(convert_pay_string_to_number, \"Total Pay\")"
      ]
    },
    {
      "cell_type": "markdown",
      "metadata": {
        "id": "RPwkqPqqvgRS"
      },
      "source": [
        "Here's an illustration of what that did:\n",
        "\n",
        "<img src=\"apply.png\"/>\n",
        "\n",
        "Note that we didn’t write `raw_compensation.apply(convert_pay_string_to_number(), “Total Pay”)` or `raw_compensation.apply(convert_pay_string_to_number(“Total Pay”))`. We just passed the name of the function, with no parentheses, to `apply`, because all we want to do is let `apply` know the name of the function we’d like to use and the name of the column we’d like to use it on. `apply` will then call the function `convert_pay_string_to_number` on each value in the column for us!\n",
        "\n",
        "<span style='background:yellow'>**Question 3.2.**</span> Using `apply`, make a table that's a copy of `raw_compensation` with one additional column called `Total Pay ($)`.  That column should contain the result of applying `convert_pay_string_to_number` to the `Total Pay` column (as we did above).  Call the new table `compensation`."
      ]
    },
    {
      "cell_type": "code",
      "execution_count": 51,
      "metadata": {
        "id": "e0mLOUB8vgRS"
      },
      "outputs": [],
      "source": [
        "compensation = raw_compensation.with_column(\n",
        "    \"Total Pay ($)\",\n",
        "    raw_compensation.apply(convert_pay_string_to_number, \"Total Pay\")\n",
        ")"
      ]
    },
    {
      "cell_type": "code",
      "execution_count": 52,
      "metadata": {
        "id": "sXCg4UHGvgRS",
        "colab": {
          "base_uri": "https://localhost:8080/"
        },
        "outputId": "c1aa2d97-eea9-477b-acbd-1edaa5d4cad0"
      },
      "outputs": [
        {
          "output_type": "execute_result",
          "data": {
            "text/plain": [
              "True"
            ]
          },
          "metadata": {},
          "execution_count": 52
        }
      ],
      "source": [
        "# TEST\n",
        "# You either didn't add the 'Total Pay ($)' column, or you mislabeled it\n",
        "'Total Pay ($)' in compensation.labels"
      ]
    },
    {
      "cell_type": "code",
      "execution_count": 53,
      "metadata": {
        "id": "LHzJ_6B0vgRS",
        "colab": {
          "base_uri": "https://localhost:8080/"
        },
        "outputId": "815cc59d-a450-44e5-d6e3-8387e3ca9a04"
      },
      "outputs": [
        {
          "output_type": "execute_result",
          "data": {
            "text/plain": [
              "True"
            ]
          },
          "metadata": {},
          "execution_count": 53
        }
      ],
      "source": [
        "# TEST\n",
        "# You have the column in your table,\n",
        "# but the values may be wrong\n",
        "t = compensation.sort('Total Pay ($)', descending = True)\n",
        "t.column('Total Pay ($)').item(0) == 53250000.0"
      ]
    },
    {
      "cell_type": "markdown",
      "metadata": {
        "id": "8Y3hgbKfvgRS"
      },
      "source": [
        "Now that we have all the pays as numbers, we can learn more about them through computation.\n",
        "\n",
        "<span style='background:yellow'>**Question 3.3.**</span> Compute the average total pay of the CEOs in the dataset."
      ]
    },
    {
      "cell_type": "code",
      "execution_count": 54,
      "metadata": {
        "id": "d3hUDIuZvgRS",
        "colab": {
          "base_uri": "https://localhost:8080/"
        },
        "outputId": "a305d8a6-1e6f-4122-8723-3d33e019e4f1"
      },
      "outputs": [
        {
          "output_type": "execute_result",
          "data": {
            "text/plain": [
              "11445294.117647059"
            ]
          },
          "metadata": {},
          "execution_count": 54
        }
      ],
      "source": [
        "average_total_pay = compensation.column(\"Total Pay ($)\").mean()\n",
        "average_total_pay"
      ]
    },
    {
      "cell_type": "code",
      "execution_count": 55,
      "metadata": {
        "id": "3lO8y4J3vgRS",
        "colab": {
          "base_uri": "https://localhost:8080/"
        },
        "outputId": "922ded2c-9778-490a-b5d2-ed57b62ac66d"
      },
      "outputs": [
        {
          "output_type": "execute_result",
          "data": {
            "text/plain": [
              "True"
            ]
          },
          "metadata": {},
          "execution_count": 55
        }
      ],
      "source": [
        "# TEST\n",
        "import math\n",
        "math.isclose(average_total_pay, 11445294.11764706, rel_tol = 0.1)"
      ]
    },
    {
      "cell_type": "markdown",
      "metadata": {
        "id": "rDhlHn2fvgRS"
      },
      "source": [
        "<span style='background:yellow'>**Question 3.4.**</span> Companies pay executives in a variety of ways: in cash, by granting stock or other equity in the company, or with ancillary benefits (like private jets).  Compute the proportion of each CEO's pay that was cash.  (Your answer should be an array of numbers, one for each CEO in the dataset.)\n",
        "\n",
        "*Note:* When you answer this question, you'll encounter a red box appearing below your code cell that says something like `RuntimeWarning: invalid value encountered in true_divide`. Don't worry too much about the message. Warnings are raised by Python when it encounters an unusual condition in your code, but the condition is not severe enough to warrant throwing an error.\n",
        "\n",
        "The warning below is Python's cryptic way of telling you that you're dividing a number by zero. If you extract the values in `Total Pay ($)` as an array, you'll see that the last element is 0."
      ]
    },
    {
      "cell_type": "code",
      "source": [
        "Compensation = compensation.with_column(\n",
        "    \"Cash Pay ($)\",\n",
        "    compensation.apply(convert_pay_string_to_number, \"Cash Pay\")\n",
        ")"
      ],
      "metadata": {
        "id": "oKxa1SXqdrym"
      },
      "execution_count": 56,
      "outputs": []
    },
    {
      "cell_type": "code",
      "execution_count": 57,
      "metadata": {
        "id": "D21wOdw-vgRS",
        "colab": {
          "base_uri": "https://localhost:8080/"
        },
        "outputId": "29f1ddee-5563-442f-d3df-02368d8436dd"
      },
      "outputs": [
        {
          "output_type": "stream",
          "name": "stderr",
          "text": [
            "/tmp/ipython-input-3475858882.py:1: RuntimeWarning: invalid value encountered in divide\n",
            "  cash_proportion = 100 * (Compensation.column(\"Cash Pay ($)\") / Compensation.column(\"Total Pay ($)\"))\n"
          ]
        },
        {
          "output_type": "execute_result",
          "data": {
            "text/plain": [
              "array([   1.78403756,    1.78437265,   55.42195502,    2.77932185,\n",
              "         13.93884892,   48.71175523,   19.5553539 ,   12.43705942,\n",
              "         25.99388379,   35.19668737,   30.75692964,   22.13863514,\n",
              "         13.12636166,   17.08126036,   23.0994152 ,    6.7348166 ,\n",
              "         13.04347826,   28.00495663,   33.22981366,   15.35580524,\n",
              "         29.33774834,   21.82910547,   31.10047847,   25.08614748,\n",
              "         22.99168975,   16.99164345,   31.79594689,   26.18878637,\n",
              "         28.35714286,   15.65471836,   38.16855754,   28.93442623,\n",
              "         20.36124795,   47.65045342,   45.64315353,   36.40202703,\n",
              "         21.77625961,   24.76354256,   42.56272401,   26.10261026,\n",
              "         18.36183618,   14.44547996,   33.33333333,   10.83413231,\n",
              "         20.92574735,   97.27626459,   22.97955209,   22.78978389,\n",
              "         37.89370079,   25.17552658,   73.89558233,   37.01825558,\n",
              "         24.12731006,   21.33757962,   20.55378062,   23.31887202,\n",
              "         33.66445916,   38.75968992,   56.09480813,   11.75799087,\n",
              "         35.23920653,   24.46300716,   25.        ,   23.71257485,\n",
              "         43.37788578,   31.42493639,   46.36363636,   32.58575198,\n",
              "         24.76697736,   98.75518672,   27.18446602,   96.20786517,\n",
              "         31.83139535,   81.97932053,   23.79518072,   17.5304878 ,\n",
              "         21.17263844,   37.16216216,   27.28813559,   26.99490662,\n",
              "         55.14834206,   35.97785978,    0.        ,   47.15447154,\n",
              "         47.15447154,   29.75391499,   16.23529412,   48.52941176,\n",
              "         46.81933842,   32.52688172,   98.95833333,   61.13074205,\n",
              "         67.0212766 ,   75.51020408,   50.83798883,   98.80952381,\n",
              "         98.03921569,   98.93617021,   87.65432099,    0.        ,\n",
              "        100.        ,           nan])"
            ]
          },
          "metadata": {},
          "execution_count": 57
        }
      ],
      "source": [
        "cash_proportion = 100 * (Compensation.column(\"Cash Pay ($)\") / Compensation.column(\"Total Pay ($)\"))\n",
        "cash_proportion"
      ]
    },
    {
      "cell_type": "code",
      "execution_count": 58,
      "metadata": {
        "id": "VtE1ZlPLvgRT",
        "colab": {
          "base_uri": "https://localhost:8080/"
        },
        "outputId": "e27b55b0-3c4f-480a-ac34-d03805a9c245"
      },
      "outputs": [
        {
          "output_type": "execute_result",
          "data": {
            "text/plain": [
              "True"
            ]
          },
          "metadata": {},
          "execution_count": 58
        }
      ],
      "source": [
        "# TEST\n",
        "# Checking length of cash_proportion\n",
        "len(cash_proportion) == 102"
      ]
    },
    {
      "cell_type": "code",
      "execution_count": 59,
      "metadata": {
        "id": "LA9bvMufvgRT",
        "colab": {
          "base_uri": "https://localhost:8080/"
        },
        "outputId": "dcd33517-7136-4c4b-fa1a-a296386c37cf"
      },
      "outputs": [
        {
          "output_type": "execute_result",
          "data": {
            "text/plain": [
              "False"
            ]
          },
          "metadata": {},
          "execution_count": 59
        }
      ],
      "source": [
        "# TEST\n",
        "import math\n",
        "math.isclose(cash_proportion.item(0), 0.01784038, rel_tol = .001)"
      ]
    },
    {
      "cell_type": "markdown",
      "metadata": {
        "id": "ZiZt9-cEvgRT"
      },
      "source": [
        "Check out the `% Change` column in `compensation`.  It shows the percentage increase in the CEO's pay from the previous year.  For CEOs with no previous year on record, it instead says \"(No previous year)\".  The values in this column are *strings*, not numbers, so like the `Total Pay` column, it's not usable without a bit of extra work.\n",
        "\n",
        "Given your current pay and the percentage increase from the previous year, you can compute your previous year's pay.  For example, if your pay is $\\$120$ this year, and that's an increase of 50% from the previous year, then your previous year's pay was $\\frac{\\$120}{1 + \\frac{50}{100}}$, or \\$80.\n",
        "\n",
        "<span style='background:yellow'>**Question 3.5.**</span> Create a new table called `with_previous_compensation`.  It should be a copy of `compensation`, but with the \"(No previous year)\" CEOs filtered out, and with an extra column called `2014 Total Pay ($)`.  That column should have each CEO's pay in 2014.\n",
        "\n",
        "*Hint 1:* You can print out your results after each step to make sure you're on the right track.\n",
        "\n",
        "*Hint 2:* We've provided a structure that you can use to get to the answer. However, if it's confusing, feel free to delete the current structure and approach the problem your own way!"
      ]
    },
    {
      "cell_type": "code",
      "execution_count": 60,
      "metadata": {
        "id": "FO7zB5DrvgRT",
        "colab": {
          "base_uri": "https://localhost:8080/",
          "height": 392
        },
        "outputId": "d0724d88-d138-447f-e550-1b18f1aabfe3"
      },
      "outputs": [
        {
          "output_type": "display_data",
          "data": {
            "text/plain": [
              "<IPython.core.display.HTML object>"
            ],
            "text/html": [
              "<table border=\"1\" class=\"dataframe\">\n",
              "    <thead>\n",
              "        <tr>\n",
              "            <th>Rank</th> <th>Name</th> <th>Company (Headquarters)</th> <th>Total Pay</th> <th>% Change</th> <th>Cash Pay</th> <th>Equity Pay</th> <th>Other Pay</th> <th>Ratio of CEO pay to average industry worker pay</th> <th>Total Pay ($)</th> <th>2014 Total Pay ($)</th>\n",
              "        </tr>\n",
              "    </thead>\n",
              "    <tbody>\n",
              "        <tr>\n",
              "            <td>3   </td> <td>Robert A. Iger    </td> <td>Walt Disney (Burbank)         </td> <td>$44.91   </td> <td>-3%     </td> <td>$24.89  </td> <td>$17.28    </td> <td>$2.74    </td> <td>477                                            </td> <td>4.491e+07    </td> <td>4.6299e+07        </td>\n",
              "        </tr>\n",
              "        <tr>\n",
              "            <td>4   </td> <td>Marissa A. Mayer  </td> <td>Yahoo! (Sunnyvale)            </td> <td>$35.98   </td> <td>-15%    </td> <td>$1.00   </td> <td>$34.43    </td> <td>$0.55    </td> <td>342                                            </td> <td>3.598e+07    </td> <td>4.23294e+07       </td>\n",
              "        </tr>\n",
              "        <tr>\n",
              "            <td>5   </td> <td>Marc Benioff      </td> <td>salesforce.com (San Francisco)</td> <td>$33.36   </td> <td>-16%    </td> <td>$4.65   </td> <td>$27.26    </td> <td>$1.45    </td> <td>338                                            </td> <td>3.336e+07    </td> <td>3.97143e+07       </td>\n",
              "        </tr>\n",
              "        <tr>\n",
              "            <td>6   </td> <td>John H. Hammergren</td> <td>McKesson (San Francisco)      </td> <td>$24.84   </td> <td>-4%     </td> <td>$12.10  </td> <td>$12.37    </td> <td>$0.37    </td> <td>222                                            </td> <td>2.484e+07    </td> <td>2.5875e+07        </td>\n",
              "        </tr>\n",
              "        <tr>\n",
              "            <td>7   </td> <td>John S. Watson    </td> <td>Chevron (San Ramon)           </td> <td>$22.04   </td> <td>-15%    </td> <td>$4.31   </td> <td>$14.68    </td> <td>$3.05    </td> <td>183                                            </td> <td>2.204e+07    </td> <td>2.59294e+07       </td>\n",
              "        </tr>\n",
              "    </tbody>\n",
              "</table>\n",
              "<p>... (76 rows omitted)</p>"
            ]
          },
          "metadata": {}
        }
      ],
      "source": [
        "# Definition to turn percent to number\n",
        "def percent_string_to_num(percent_string):\n",
        "    \"\"\"Converts a percentage string to a number.\"\"\"\n",
        "    return float(percent_string.strip(\"%\"))\n",
        "\n",
        "# Compensation table where there is a previous year\n",
        "having_previous_year = compensation.where(\"% Change\", are.not_equal_to(\"(No previous year)\"))\n",
        "\n",
        "# Get the percent changes as numbers instead of strings\n",
        "percent_changes = having_previous_year.apply(percent_string_to_num, \"% Change\")\n",
        "\n",
        "# Calculate the previous year's pay\n",
        "previous_pay = having_previous_year.column(\"Total Pay ($)\") / (1 + percent_changes / 100)\n",
        "\n",
        "# Put the previous pay column into the having_previous_year table\n",
        "with_previous_compensation = having_previous_year.with_column(\"2014 Total Pay ($)\", previous_pay)\n",
        "\n",
        "with_previous_compensation.show(5)\n",
        "\n"
      ]
    },
    {
      "cell_type": "code",
      "execution_count": 61,
      "metadata": {
        "id": "9FXqfDZgvgRT",
        "colab": {
          "base_uri": "https://localhost:8080/"
        },
        "outputId": "965a0c10-7332-4c22-fe20-15781a443d8f"
      },
      "outputs": [
        {
          "output_type": "execute_result",
          "data": {
            "text/plain": [
              "True"
            ]
          },
          "metadata": {},
          "execution_count": 61
        }
      ],
      "source": [
        "# TEST\n",
        "# Make sure to remove the \"(No previous year)\" CEOs\n",
        "\"(No previous year)\" not in with_previous_compensation.column(\"% Change\")"
      ]
    },
    {
      "cell_type": "code",
      "execution_count": 62,
      "metadata": {
        "id": "Bemc39XEvgRT",
        "colab": {
          "base_uri": "https://localhost:8080/"
        },
        "outputId": "69ccbfc0-01af-43ee-f339-1d24cfd8fdb6"
      },
      "outputs": [
        {
          "output_type": "execute_result",
          "data": {
            "text/plain": [
              "True"
            ]
          },
          "metadata": {},
          "execution_count": 62
        }
      ],
      "source": [
        "# TEST\n",
        "import math\n",
        "# You have the column, but some of\n",
        "# your values may be wrong.\n",
        "t = with_previous_compensation.sort(\"2014 Total Pay ($)\", descending = True)\n",
        "value = t.column(\"2014 Total Pay ($)\").item(0)\n",
        "math.isclose(value, 67700000.0, rel_tol = 1000)"
      ]
    },
    {
      "cell_type": "code",
      "execution_count": 63,
      "metadata": {
        "id": "hlGe0ZBwvgRT",
        "colab": {
          "base_uri": "https://localhost:8080/"
        },
        "outputId": "158de95d-f289-42df-bece-de3aaa9e887f"
      },
      "outputs": [
        {
          "output_type": "execute_result",
          "data": {
            "text/plain": [
              "True"
            ]
          },
          "metadata": {},
          "execution_count": 63
        }
      ],
      "source": [
        "# TEST\n",
        "# You have the column, but your number of rows is off\n",
        "with_previous_compensation.num_rows==81"
      ]
    },
    {
      "cell_type": "markdown",
      "metadata": {
        "id": "yPTIAyllvgRT"
      },
      "source": [
        "<span style='background:yellow'>**Question 3.6.**</span> What was the average pay of these CEOs in 2014?"
      ]
    },
    {
      "cell_type": "code",
      "execution_count": 64,
      "metadata": {
        "id": "7gclV64FvgRT",
        "colab": {
          "base_uri": "https://localhost:8080/"
        },
        "outputId": "09bf054e-19e7-4466-a870-f759939ac4f0"
      },
      "outputs": [
        {
          "output_type": "execute_result",
          "data": {
            "text/plain": [
              "11649176.115603436"
            ]
          },
          "metadata": {},
          "execution_count": 64
        }
      ],
      "source": [
        "average_pay_2014 = np.average(with_previous_compensation.column(\"2014 Total Pay ($)\"))\n",
        "average_pay_2014"
      ]
    },
    {
      "cell_type": "code",
      "execution_count": 65,
      "metadata": {
        "id": "NQpCDbiZvgRT",
        "colab": {
          "base_uri": "https://localhost:8080/"
        },
        "outputId": "7307aa1a-7d48-4a83-f422-b05c125b61a1"
      },
      "outputs": [
        {
          "output_type": "execute_result",
          "data": {
            "text/plain": [
              "True"
            ]
          },
          "metadata": {},
          "execution_count": 65
        }
      ],
      "source": [
        "# TEST\n",
        "import math\n",
        "math.isclose(average_pay_2014, 11649176.115603436, rel_tol = 10)"
      ]
    },
    {
      "cell_type": "markdown",
      "metadata": {
        "for_assignment_type": "solution",
        "id": "gJRGAiTevgRT"
      },
      "source": [
        "**Why is `apply` useful?**\n",
        "\n",
        "For operations like arithmetic, or the functions in the NumPy library, you don't need to use `apply`, because they automatically work on each element of an array.  But there are many things that don't.  The string manipulation we did in today's lab is one example.  Since you can write any code you want in a function, `apply` gives you total control over how you operate on data."
      ]
    },
    {
      "cell_type": "markdown",
      "metadata": {
        "id": "0Dq886CRvgRU"
      },
      "source": [
        "## 4. Histograms\n",
        "Earlier, we computed the average pay among the CEOs in our 102-CEO dataset.  The average doesn't tell us everything about the amounts CEOs are paid, though.  Maybe just a few CEOs make the bulk of the money, even among these 102.\n",
        "\n",
        "We can use a *histogram* method to display the *distribution* of a set of numbers.  The table method `hist` takes a single argument, the name of a column of numbers.  It produces a histogram of the numbers in that column.\n",
        "\n",
        "<span style='background:yellow'>**Question 4.1.**</span> Make a histogram of the total pay of the CEOs in `compensation`. Check with your neighbor or a staff member to make sure you have the right plot."
      ]
    },
    {
      "cell_type": "code",
      "execution_count": 66,
      "metadata": {
        "id": "lm4pwEnyvgRU",
        "colab": {
          "base_uri": "https://localhost:8080/",
          "height": 496
        },
        "outputId": "92d3516b-5afb-472b-a711-439c128ab7ec"
      },
      "outputs": [
        {
          "output_type": "display_data",
          "data": {
            "text/plain": [
              "<Figure size 600x400 with 1 Axes>"
            ],
            "image/png": "[encoded data removed]"
          },
          "metadata": {}
        }
      ],
      "source": [
        "Compensation.hist(\"Total Pay ($)\")"
      ]
    },
    {
      "cell_type": "markdown",
      "metadata": {
        "id": "EGW09vnSvgRU"
      },
      "source": [
        "<span style='background:yellow'>**Question 4.2.**</span> How many CEOs made more than $30 million in total pay? Find the value using code, then check that the value you found is consistent with what you see in the histogram.\n",
        "\n",
        "*Hint:* Use the table method `where` and the property `num_rows`."
      ]
    },
    {
      "cell_type": "code",
      "execution_count": 67,
      "metadata": {
        "id": "EDGYZl_qvgRU",
        "colab": {
          "base_uri": "https://localhost:8080/"
        },
        "outputId": "118ba365-d0ae-4aa6-ef72-be2305aa88c9"
      },
      "outputs": [
        {
          "output_type": "execute_result",
          "data": {
            "text/plain": [
              "5"
            ]
          },
          "metadata": {},
          "execution_count": 67
        }
      ],
      "source": [
        "num_ceos_more_than_30_million_2 = sum(compensation.column(\"Total Pay ($)\") > 30_000_000)\n",
        "\n",
        "num_ceos_more_than_30_million_2"
      ]
    },
    {
      "cell_type": "code",
      "execution_count": 68,
      "metadata": {
        "id": "R7ACOo6wvgRU",
        "colab": {
          "base_uri": "https://localhost:8080/"
        },
        "outputId": "194a7ab5-8358-48b2-a415-3115c09e2e9e"
      },
      "outputs": [
        {
          "output_type": "execute_result",
          "data": {
            "text/plain": [
              "True"
            ]
          },
          "metadata": {},
          "execution_count": 68
        }
      ],
      "source": [
        "# TEST\n",
        "num_ceos_more_than_30_million_2 == 5"
      ]
    },
    {
      "cell_type": "markdown",
      "metadata": {
        "id": "JzMPV_MMvgRU"
      },
      "source": [
        "Great job! You're finished with lab 3! Be sure to...\n",
        "\n",
        "* **run all the tests**,\n",
        "* **print the notebook as a PDF**,\n",
        "* and **submit both the notebook and the PDF to Canvas**."
      ]
    }
  ],
  "metadata": {
    "anaconda-cloud": {},
    "celltoolbar": "Edit Metadata",
    "colab": {
      "provenance": []
    },
    "kernelspec": {
      "display_name": "Python 3",
      "language": "python",
      "name": "python3"
    },
    "language_info": {
      "codemirror_mode": {
        "name": "ipython",
        "version": 3
      },
      "file_extension": ".py",
      "mimetype": "text/x-python",
      "name": "python",
      "nbconvert_exporter": "python",
      "pygments_lexer": "ipython3",
      "version": "3.7.11"
    }
  },
  "nbformat": 4,
  "nbformat_minor": 0
}